{
 "cells": [
  {
   "cell_type": "code",
   "execution_count": null,
   "metadata": {},
   "outputs": [],
   "source": []
  },
  {
   "cell_type": "code",
   "execution_count": 5,
   "metadata": {},
   "outputs": [],
   "source": [
    "import urllib\n",
    "from bs4 import BeautifulSoup\n",
    "import csv\n",
    "import requests\n",
    "import cssutils\n",
    "from neo4j import *\n",
    "import csv\n",
    "import time"
   ]
  },
  {
   "cell_type": "code",
   "execution_count": 2,
   "metadata": {},
   "outputs": [],
   "source": [
    "url = \"https://en.wikipedia.org/wiki/List_of_hillside_letters_in_Montana\""
   ]
  },
  {
   "cell_type": "code",
   "execution_count": 3,
   "metadata": {},
   "outputs": [],
   "source": [
    "page = requests.get(url).text\n",
    "soup = BeautifulSoup(page, 'html.parser')"
   ]
  },
  {
   "cell_type": "code",
   "execution_count": 13,
   "metadata": {},
   "outputs": [],
   "source": [
    "tds = soup.find_all('td')[2:]\n",
    "rows = [tds[i:i+4] for i in range(0, len(tds), 4)]"
   ]
  },
  {
   "cell_type": "code",
   "execution_count": 61,
   "metadata": {},
   "outputs": [],
   "source": [
    "glyphs = []"
   ]
  },
  {
   "cell_type": "code",
   "execution_count": 64,
   "metadata": {},
   "outputs": [],
   "source": [
    "def get_row_obj(row):\n",
    "    try:\n",
    "        monogram = row[0].text\n",
    "        town = row[1].text\n",
    "        description =row[2].text\n",
    "        lat, lon = row[3].find('span', attrs={\"class\": \"geo\"}).text.split(';')\n",
    "        l = {\"state\": \"Montana\", \"monogram\": monogram, \"town\": town, \"description\": description, \"lat\": lat, \"lon\": lon}\n",
    "        print(l)\n",
    "        return l\n",
    "    except:\n",
    "        pass"
   ]
  },
  {
   "cell_type": "code",
   "execution_count": 65,
   "metadata": {},
   "outputs": [
    {
     "name": "stdout",
     "output_type": "stream",
     "text": [
      "{'state': 'Montana', 'monogram': 'Fish', 'town': 'Livingston', 'description': '\"Trout capital of the world\"', 'lat': '45.6708', 'lon': ' -110.5641'}\n",
      "{'state': 'Montana', 'monogram': 'A', 'town': 'Absarokee', 'description': '', 'lat': '45.5172', 'lon': ' -109.4376'}\n",
      "{'state': 'Montana', 'monogram': 'A', 'town': 'Anaconda', 'description': '', 'lat': '46.1174', 'lon': ' -112.9706'}\n",
      "{'state': 'Montana', 'monogram': 'A', 'town': 'Arlee', 'description': '', 'lat': '47.156506', 'lon': ' -114.094879'}\n",
      "{'state': 'Montana', 'monogram': 'B (uncertain existence)', 'town': 'Baker', 'description': '', 'lat': '46.3651', 'lon': ' -104.2741'}\n",
      "{'state': 'Montana', 'monogram': 'B', 'town': 'Dillon', 'description': 'Beaverhead County High School', 'lat': '45.2389', 'lon': ' -112.6676'}\n",
      "{'state': 'Montana', 'monogram': 'B', 'town': 'Bozeman', 'description': '', 'lat': '45.7241', 'lon': ' -110.9825'}\n",
      "{'state': 'Montana', 'monogram': 'B', 'town': 'Bridger', 'description': '', 'lat': '45.295342', 'lon': ' -108.928286'}\n",
      "{'state': 'Montana', 'monogram': 'B', 'town': 'Broadus', 'description': '', 'lat': '45.4479', 'lon': ' -105.4107'}\n",
      "{'state': 'Montana', 'monogram': 'C (poor maintenance)', 'town': 'Helena', 'description': 'Carroll College', 'lat': '46.5704', 'lon': ' -112.0299'}\n",
      "{'state': 'Montana', 'monogram': 'C', 'town': 'Ekalaka', 'description': 'Carter County High School', 'lat': '45.8973', 'lon': ' -104.5453'}\n",
      "{'state': 'Montana', 'monogram': 'C', 'town': 'Cascade', 'description': '', 'lat': '47.2815', 'lon': ' -111.7103'}\n",
      "{'state': 'Montana', 'monogram': 'C', 'town': 'Anaconda', 'description': 'Anaconda High School', 'lat': '46.114', 'lon': ' -112.9512'}\n",
      "{'state': 'Montana', 'monogram': 'C', 'town': 'Charlo', 'description': '', 'lat': '47.4502', 'lon': ' -114.256'}\n",
      "{'state': 'Montana', 'monogram': 'C', 'town': 'Circle', 'description': '', 'lat': '47.4255', 'lon': ' -105.5889'}\n",
      "{'state': 'Montana', 'monogram': 'C (uncertain existence)', 'town': 'Colstrip', 'description': '', 'lat': '45.885', 'lon': ' -106.6331'}\n",
      "{'state': 'Montana', 'monogram': 'C', 'town': 'Columbus', 'description': '', 'lat': '45.6521', 'lon': ' -109.2505'}\n",
      "{'state': 'Montana', 'monogram': 'C', 'town': 'Corvallis', 'description': '', 'lat': '46.3359', 'lon': ' -114.0261'}\n",
      "{'state': 'Montana', 'monogram': 'CMR', 'town': 'Great Falls', 'description': 'C.M. Russell High School', 'lat': '47.492892', 'lon': ' -111.348718'}\n",
      "{'state': 'Montana', 'monogram': 'D', 'town': 'Darby', 'description': 'Darby High School', 'lat': '46.0248', 'lon': ' -114.1649'}\n",
      "{'state': 'Montana', 'monogram': 'D (uncertain existence)', 'town': 'Glendive', 'description': 'Dawson County High School', 'lat': '47.1123', 'lon': ' -104.7066'}\n",
      "{'state': 'Montana', 'monogram': 'D', 'town': 'Denton', 'description': '', 'lat': '47.3124', 'lon': ' -109.9366'}\n",
      "{'state': 'Montana', 'monogram': 'D', 'town': 'Drummond', 'description': '', 'lat': '46.6701', 'lon': ' -113.1407'}\n",
      "{'state': 'Montana', 'monogram': 'E', 'town': 'Ennis', 'description': '', 'lat': '45.3505', 'lon': ' -111.7478'}\n",
      "{'state': 'Montana', 'monogram': 'F', 'town': 'Lewistown', 'description': 'Fergus High School', 'lat': '47.0541', 'lon': ' -109.4230'}\n",
      "{'state': 'Montana', 'monogram': 'F', 'town': 'Kalispell', 'description': 'Flathead High School', 'lat': '48.1793', 'lon': ' -114.3816'}\n",
      "{'state': 'Montana', 'monogram': 'F', 'town': 'Forsyth', 'description': '', 'lat': '46.2613', 'lon': ' -106.674'}\n",
      "{'state': 'Montana', 'monogram': 'F (no longer exists)', 'town': 'Frazer', 'description': '', 'lat': '48.0601', 'lon': ' -106.0398'}\n",
      "{'state': 'Montana', 'monogram': 'F', 'town': 'Frenchtown', 'description': '', 'lat': '47.0218', 'lon': ' -114.2212'}\n",
      "{'state': 'Montana', 'monogram': 'F (uncertain existence)', 'town': 'Fromberg', 'description': '', 'lat': '45.3886', 'lon': ' -108.9209'}\n",
      "{'state': 'Montana', 'monogram': 'FB', 'town': 'Ft. Benton', 'description': '', 'lat': '47.8101', 'lon': ' -110.6626'}\n",
      "{'state': 'Montana', 'monogram': 'G', 'town': 'Gardiner', 'description': '', 'lat': '45.038', 'lon': ' -110.7062'}\n",
      "{'state': 'Montana', 'monogram': 'G', 'town': 'Geraldine', 'description': '', 'lat': '47.6057', 'lon': ' -110.287'}\n",
      "{'state': 'Montana', 'monogram': 'G', 'town': 'Geyser', 'description': '', 'lat': '47.2861', 'lon': ' -110.5089'}\n",
      "{'state': 'Montana', 'monogram': 'G', 'town': 'Glasgow', 'description': '', 'lat': '48.2118', 'lon': ' -106.6395'}\n",
      "{'state': 'Montana', 'monogram': 'G', 'town': 'Philipsburg', 'description': 'Granite High School', 'lat': '46.3306', 'lon': ' -113.283'}\n",
      "{'state': 'Montana', 'monogram': 'GR', 'town': 'Grass Range', 'description': '', 'lat': '47.027', 'lon': ' -108.8087'}\n",
      "{'state': 'Montana', 'monogram': 'GF', 'town': 'Great Falls', 'description': 'Great Falls High School', 'lat': '47.5218', 'lon': ' -111.3353'}\n",
      "{'state': 'Montana', 'monogram': 'H', 'town': 'Hamilton', 'description': '', 'lat': '46.2342', 'lon': ' -114.2315'}\n",
      "{'state': 'Montana', 'monogram': 'H', 'town': 'Harlowton', 'description': '', 'lat': '46.4445', 'lon': ' -109.8154'}\n",
      "{'state': 'Montana', 'monogram': 'H', 'town': 'Havre', 'description': 'Havre High School', 'lat': '48.5232', 'lon': ' -109.6386'}\n",
      "{'state': 'Montana', 'monogram': 'H', 'town': 'Havre', 'description': 'Havre High School', 'lat': '48.546896', 'lon': ' -109.687308'}\n",
      "{'state': 'Montana', 'monogram': 'H', 'town': 'Helena', 'description': '', 'lat': '46.590876', 'lon': ' -112.059953'}\n",
      "{'state': 'Montana', 'monogram': 'H (no longer exists)', 'town': 'Missoula', 'description': 'Hellgate High School', 'lat': '46.8624', 'lon': ' -113.9966'}\n",
      "{'state': 'Montana', 'monogram': 'H', 'town': 'Highwood', 'description': '', 'lat': '47.5801', 'lon': ' -110.7935'}\n",
      "{'state': 'Montana', 'monogram': 'H', 'town': 'Hinsdale', 'description': '', 'lat': '48.3778', 'lon': ' -107.0964'}\n",
      "{'state': 'Montana', 'monogram': 'H', 'town': 'Hot Springs', 'description': '', 'lat': '47.6263', 'lon': ' -114.651'}\n",
      "{'state': 'Montana', 'monogram': 'H', 'town': 'Hysham', 'description': '', 'lat': '46.2624', 'lon': ' -107.2249'}\n",
      "{'state': 'Montana', 'monogram': 'J', 'town': 'Jackson', 'description': '', 'lat': '45.3805', 'lon': ' -113.3982'}\n",
      "{'state': 'Montana', 'monogram': 'J', 'town': 'Boulder', 'description': 'Jefferson High School', 'lat': '46.2448', 'lon': ' -112.1486'}\n",
      "{'state': 'Montana', 'monogram': 'J', 'town': 'Joliet', 'description': '', 'lat': '45.4808', 'lon': ' -108.9598'}\n",
      "{'state': 'Montana', 'monogram': 'J', 'town': 'Jordan', 'description': '', 'lat': '47.3151', 'lon': ' -106.8984'}\n",
      "{'state': 'Montana', 'monogram': 'K', 'town': 'Klein', 'description': '', 'lat': '46.4006', 'lon': ' -108.5512'}\n",
      "{'state': 'Montana', 'monogram': 'KG (uncertain existence)', 'town': 'Gildford', 'description': 'Kremlin-Gildford High School (closed)', 'lat': '48.5698', 'lon': ' -110.3'}\n",
      "{'state': 'Montana', 'monogram': 'L', 'town': 'Lavina', 'description': '', 'lat': '46.3114', 'lon': ' -108.9335'}\n",
      "{'state': 'Montana', 'monogram': 'L (no longer exists)', 'town': 'Lewistown', 'description': '', 'lat': '45.67', 'lon': ' -110.5621'}\n",
      "{'state': 'Montana', 'monogram': 'L', 'town': 'Libby', 'description': '', 'lat': '48.3943', 'lon': ' -115.5087'}\n",
      "{'state': 'Montana', 'monogram': 'L', 'town': 'Lima', 'description': '', 'lat': '44.6185', 'lon': ' -112.5784'}\n",
      "{'state': 'Montana', 'monogram': 'L', 'town': 'Eureka', 'description': 'Lincoln County High School', 'lat': '48.8842', 'lon': ' -115.0561'}\n",
      "{'state': 'Montana', 'monogram': 'L', 'town': 'Missoula', 'description': 'Loyola High School', 'lat': '46.8728', 'lon': ' -113.9685'}\n",
      "{'state': 'Montana', 'monogram': 'M (uncertain existence)', 'town': 'Malta', 'description': '', 'lat': '48.3549', 'lon': ' -107.8701'}\n",
      "{'state': 'Montana', 'monogram': 'M', 'town': 'St. Ignatius', 'description': 'Mission High School', 'lat': '47.3007', 'lon': ' -114.1066'}\n",
      "{'state': 'Montana', 'monogram': 'M', 'town': 'Bozeman', 'description': 'Montana State University', 'lat': '45.7144', 'lon': ' -110.9735'}\n",
      "{'state': 'Montana', 'monogram': 'M', 'town': 'Butte', 'description': 'Montana Tech, built 1910', 'lat': '46.0191', 'lon': ' -112.5587'}\n",
      "{'state': 'Montana', 'monogram': 'M', 'town': 'Missoula', 'description': 'University of Montana, built 1909', 'lat': '46.8594', 'lon': ' -113.9757'}\n",
      "{'state': 'Montana', 'monogram': 'M', 'town': 'Dillon', 'description': 'University of Montana Western', 'lat': '45.2209', 'lon': ' -112.6671'}\n",
      "{'state': 'Montana', 'monogram': 'N', 'town': 'Nashua', 'description': '', 'lat': '48.1381675', 'lon': ' -106.3566111'}\n",
      "{'state': 'Montana', 'monogram': 'N', 'town': 'Havre', 'description': 'Montana State University Northern', 'lat': '48.546977', 'lon': ' -109.686583'}\n",
      "{'state': 'Montana', 'monogram': 'P', 'town': 'Livingston', 'description': 'Park High School', 'lat': '45.6714', 'lon': ' -110.5624'}\n",
      "{'state': 'Montana', 'monogram': 'P', 'town': 'Plains', 'description': '', 'lat': '47.4619', 'lon': ' -114.872'}\n",
      "{'state': 'Montana', 'monogram': 'P', 'town': 'Polson', 'description': '', 'lat': '47.6798', 'lon': ' -114.1471'}\n",
      "{'state': 'Montana', 'monogram': 'P', 'town': 'Deer Lodge', 'description': 'Powell County High School', 'lat': '46.4222', 'lon': ' -112.7599'}\n",
      "{'state': 'Montana', 'monogram': 'RL', 'town': 'Red Lodge', 'description': '', 'lat': '45.1766', 'lon': ' -109.2425'}\n",
      "{'state': 'Montana', 'monogram': 'R', 'town': 'Redstone', 'description': '', 'lat': '48.8237', 'lon': ' -104.9505'}\n",
      "{'state': 'Montana', 'monogram': 'R', 'town': 'Reed Point', 'description': '', 'lat': '45.7026', 'lon': ' -109.5424'}\n",
      "{'state': 'Montana', 'monogram': 'R', 'town': 'Roberts', 'description': '', 'lat': '45.3764', 'lon': ' -109.1864'}\n",
      "{'state': 'Montana', 'monogram': 'R (no longer exists)', 'town': 'Billings', 'description': 'Rocky Mountain College', 'lat': '45.8023', 'lon': ' -108.5547'}\n",
      "{'state': 'Montana', 'monogram': 'R', 'town': 'Rosebud', 'description': '', 'lat': '46.273', 'lon': ' -106.4372'}\n",
      "{'state': 'Montana', 'monogram': 'R (uncertain existence)', 'town': 'Roundup', 'description': '', 'lat': '46.4381', 'lon': ' -108.5376'}\n",
      "{'state': 'Montana', 'monogram': 'R', 'town': 'Roy', 'description': '', 'lat': '47.3227', 'lon': ' -108.9527'}\n",
      "{'state': 'Montana', 'monogram': 'R', 'town': 'Ryegate', 'description': '', 'lat': '46.3023', 'lon': ' -109.2568'}\n",
      "{'state': 'Montana', 'monogram': 'S (no longer exists)', 'town': 'Missoula', 'description': 'Sentinel High School', 'lat': '46.847', 'lon': ' -114.0099'}\n",
      "{'state': 'Montana', 'monogram': 'S', 'town': 'Shelby', 'description': '', 'lat': '48.5195', 'lon': ' -111.8671'}\n",
      "{'state': 'Montana', 'monogram': 'S', 'town': 'Sheridan', 'description': 'Sheridan K-12 Schools', 'lat': '45.4514', 'lon': ' -112.1251'}\n",
      "{'state': 'Montana', 'monogram': 'R (uncertain existence)', 'town': 'Saint Regis', 'description': '', 'lat': '47.3064', 'lon': ' -115.1053'}\n",
      "{'state': 'Montana', 'monogram': 'S', 'town': 'Stanford', 'description': '', 'lat': '47.1655', 'lon': ' -110.2724'}\n",
      "{'state': 'Montana', 'monogram': 'S', 'town': 'Superior', 'description': '', 'lat': '47.1955', 'lon': ' -114.8791'}\n",
      "{'state': 'Montana', 'monogram': 'T', 'town': 'Terry', 'description': '', 'lat': '46.81058', 'lon': ' -105.3153'}\n",
      "{'state': 'Montana', 'monogram': 'T', 'town': 'Three Forks', 'description': '', 'lat': '45.8864', 'lon': ' -111.6501'}\n",
      "{'state': 'Montana', 'monogram': 'TB', 'town': 'Twin Bridges', 'description': '', 'lat': '45.5653', 'lon': ' -112.3127'}\n",
      "{'state': 'Montana', 'monogram': 'U', 'town': 'Ulm', 'description': '', 'lat': '47.4387', 'lon': ' -111.4999'}\n",
      "{'state': 'Montana', 'monogram': 'V', 'town': 'Victor', 'description': '', 'lat': '46.4396', 'lon': ' -114.1992'}\n",
      "{'state': 'Montana', 'monogram': 'W', 'town': 'Whitehall', 'description': '', 'lat': '45.910345', 'lon': ' -112.037352'}\n",
      "{'state': 'Montana', 'monogram': 'W (uncertain existence)', 'town': 'Wibaux', 'description': '', 'lat': '46.9878', 'lon': ' -104.1877'}\n",
      "{'state': 'Montana', 'monogram': 'W', 'town': 'Windham', 'description': '', 'lat': '47.084', 'lon': ' -110.139'}\n",
      "{'state': 'Montana', 'monogram': 'W', 'town': 'Winifred', 'description': '', 'lat': '47.5651', 'lon': ' -109.3685'}\n",
      "{'state': 'Montana', 'monogram': 'W', 'town': 'Winnett', 'description': '', 'lat': '46.992', 'lon': ' -108.3458'}\n"
     ]
    }
   ],
   "source": [
    "for row in rows:\n",
    "    glyph = get_row_obj(row)\n",
    "    glyphs.append(glyph)"
   ]
  },
  {
   "cell_type": "code",
   "execution_count": 66,
   "metadata": {},
   "outputs": [
    {
     "data": {
      "text/plain": [
       "98"
      ]
     },
     "execution_count": 66,
     "metadata": {},
     "output_type": "execute_result"
    }
   ],
   "source": [
    "len(glyphs)"
   ]
  },
  {
   "cell_type": "code",
   "execution_count": 68,
   "metadata": {},
   "outputs": [],
   "source": [
    "with open('geoglyphs.csv', 'w', newline='') as csvfile:\n",
    "    fieldnames = [\"monogram\",\"town\",\"description\", \"lat\", \"lon\", \"method\", \"state\"]\n",
    "    writer = csv.DictWriter(csvfile, fieldnames=fieldnames)\n",
    "    writer.writeheader()\n",
    "    for g in glyphs:\n",
    "        if g:\n",
    "            writer.writerow(g)"
   ]
  },
  {
   "cell_type": "code",
   "execution_count": null,
   "metadata": {},
   "outputs": [],
   "source": []
  }
 ],
 "metadata": {
  "kernelspec": {
   "display_name": "Python 3",
   "language": "python",
   "name": "python3"
  },
  "language_info": {
   "codemirror_mode": {
    "name": "ipython",
    "version": 3
   },
   "file_extension": ".py",
   "mimetype": "text/x-python",
   "name": "python",
   "nbconvert_exporter": "python",
   "pygments_lexer": "ipython3",
   "version": "3.6.9"
  }
 },
 "nbformat": 4,
 "nbformat_minor": 2
}
